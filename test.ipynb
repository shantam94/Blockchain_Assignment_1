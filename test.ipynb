{
 "cells": [
  {
   "cell_type": "code",
   "execution_count": 2,
   "metadata": {},
   "outputs": [
    {
     "name": "stdout",
     "output_type": "stream",
     "text": [
      "Collecting pymerkle\n",
      "  Downloading pymerkle-3.0.0-py3-none-any.whl (49 kB)\n",
      "\u001b[2K     \u001b[90m━━━━━━━━━━━━━━━━━━━━━━━━━━━━━━━━━━━━━━━\u001b[0m \u001b[32m49.3/49.3 kB\u001b[0m \u001b[31m460.5 kB/s\u001b[0m eta \u001b[36m0:00:00\u001b[0ma \u001b[36m0:00:01\u001b[0m\n",
      "\u001b[?25hInstalling collected packages: pymerkle\n",
      "Successfully installed pymerkle-3.0.0\n",
      "Note: you may need to restart the kernel to use updated packages.\n"
     ]
    }
   ],
   "source": [
    "pip install pymerkle"
   ]
  },
  {
   "cell_type": "code",
   "execution_count": 4,
   "metadata": {},
   "outputs": [],
   "source": [
    "from pymerkle import MerkleTree\n",
    "tree = MerkleTree()\n",
    "\n",
    "# Populate tree with some records\n",
    "for data in [b'foo', b'bar', b'baz', b'qux', b'quux']:\n",
    "    tree.encrypt(data)"
   ]
  },
  {
   "cell_type": "code",
   "execution_count": 7,
   "metadata": {},
   "outputs": [
    {
     "data": {
      "text/plain": [
       "\"b'a2df9c3b0ca85b3dec24ebb128a05488ed6f20925faf67d1ed7f97025fdbf58c'\""
      ]
     },
     "execution_count": 7,
     "metadata": {},
     "output_type": "execute_result"
    }
   ],
   "source": [
    "str(tree.root_hash)"
   ]
  },
  {
   "cell_type": "code",
   "execution_count": 8,
   "metadata": {},
   "outputs": [],
   "source": [
    "users = {\n",
    "            \"Engineer\": {\n",
    "                \"keys\" :100,\n",
    "                \"connected_nodes\" : [\"http://127.0.0.1:5001\",\"http://127.0.0.1:5002\",\n",
    "                                    \"http://127.0.0.1:5003\",\"http://127.0.0.1:5004\"]\n",
    "            },\n",
    "\n",
    "            \"Banker\": {\n",
    "                \"keys\" :100,\n",
    "                \"connected_nodes\" : [\"http://127.0.0.1:5005\",\"http://127.0.0.1:5006\",\n",
    "                                    \"http://127.0.0.1:5007\",\"http://127.0.0.1:5008\",\n",
    "                                    \"http://127.0.0.1:5007\",\"http://127.0.0.1:5008\"]\n",
    "            },\n",
    "            \"Teacher\": {\n",
    "                \"keys\" :100,\n",
    "                \"connected_nodes\" : [\"http://127.0.0.1:5001\",\"http://127.0.0.1:5002\",\n",
    "                                    \"http://127.0.0.1:5003\",\"http://127.0.0.1:5004\"]\n",
    "            },\n",
    "            \"Philosopher\": {\n",
    "                \"keys\" :11,\n",
    "                \"connected_nodes\" : [\"http://127.0.0.1:5005\",\"http://127.0.0.1:5006\",\n",
    "                                    \"http://127.0.0.1:5007\",\"http://127.0.0.1:5008\",\n",
    "                                    \"http://127.0.0.1:5009\",\"http://127.0.0.1:50010\"]\n",
    "            }\n",
    "        }"
   ]
  },
  {
   "cell_type": "code",
   "execution_count": 11,
   "metadata": {},
   "outputs": [
    {
     "data": {
      "text/plain": [
       "['http://127.0.0.1:5001',\n",
       " 'http://127.0.0.1:5002',\n",
       " 'http://127.0.0.1:5003',\n",
       " 'http://127.0.0.1:5004']"
      ]
     },
     "execution_count": 11,
     "metadata": {},
     "output_type": "execute_result"
    }
   ],
   "source": [
    "users.get(\"Engineer\").get(\"connected_nodes\")"
   ]
  },
  {
   "cell_type": "code",
   "execution_count": null,
   "metadata": {},
   "outputs": [],
   "source": []
  }
 ],
 "metadata": {
  "kernelspec": {
   "display_name": "Python 3.8.13 64-bit ('3.8.13')",
   "language": "python",
   "name": "python3"
  },
  "language_info": {
   "codemirror_mode": {
    "name": "ipython",
    "version": 3
   },
   "file_extension": ".py",
   "mimetype": "text/x-python",
   "name": "python",
   "nbconvert_exporter": "python",
   "pygments_lexer": "ipython3",
   "version": "3.8.13"
  },
  "orig_nbformat": 4,
  "vscode": {
   "interpreter": {
    "hash": "e7e09ea68757a255df932caa4c4a93d86867238ee152f1b96c9672a3978dba9e"
   }
  }
 },
 "nbformat": 4,
 "nbformat_minor": 2
}
